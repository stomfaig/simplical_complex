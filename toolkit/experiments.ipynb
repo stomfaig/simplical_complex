{
 "cells": [
  {
   "cell_type": "code",
   "execution_count": 1,
   "metadata": {},
   "outputs": [
    {
     "name": "stderr",
     "output_type": "stream",
     "text": [
      "/home/gergo/.local/lib/python3.10/site-packages/tqdm/auto.py:22: TqdmWarning: IProgress not found. Please update jupyter and ipywidgets. See https://ipywidgets.readthedocs.io/en/stable/user_install.html\n",
      "  from .autonotebook import tqdm as notebook_tqdm\n"
     ]
    }
   ],
   "source": [
    "import torch\n",
    "import time"
   ]
  },
  {
   "cell_type": "code",
   "execution_count": null,
   "metadata": {},
   "outputs": [],
   "source": [
    "# it assumed that all assumptions about mat1 and mat2 are satisfied.\n",
    "def _mm_csc_csr(mat1, mat2):\n",
    "\n",
    "    \n",
    "\n",
    "    (row_num, inter) = mat1.size()\n",
    "    col_num = mat2.size()[1]\n",
    "\n",
    "    result = torch.zeros((row_num, col_num))\n",
    "\n",
    "    ccol_indices = mat1.ccol_indices()\n",
    "    row_indices = mat1.row_indices()\n",
    "    values1 = mat1.values()\n",
    "    crow_indices = mat2.crow_indices()\n",
    "    col_indices = mat2.col_indices()\n",
    "    values2 = mat2.values()\n",
    "\n",
    "    for i in range(inter):\n",
    "\n",
    "        extraceted_col = torch.zeros((row_num, 1))\n",
    "        extracted_row = torch.zeros((1, col_num))\n",
    "    \n",
    "        iy_range = range(ccol_indices[i], ccol_indices[i+1])\n",
    "        jx_range = range(crow_indices[i], crow_indices[i+1])\n",
    "\n",
    "        for i in iy_range:\n",
    "            extraceted_col[row_indices[i]] = values1[i]\n",
    "\n",
    "        for j in jx_range:\n",
    "            extracted_row[col_indices[j]] = values2[j]\n",
    "\n",
    "\n",
    "        result += torch.cat([extracted_row[k] * extraceted_col for k in range(col_num)])\n",
    "\n",
    "    return result"
   ]
  },
  {
   "cell_type": "code",
   "execution_count": null,
   "metadata": {},
   "outputs": [],
   "source": [
    "def mm_csc_csr(mat1, mat2):\n",
    "    if mat1.layout != torch.sparse_csc or mat2.layout != torch.sparse_csr:\n",
    "        raise Exception('ensure that mat1 is of layout csc and that \\\n",
    "        mat2 is of layout csr')\n",
    "\n",
    "    if mat1.size()[1] != mat2.size()[0]:\n",
    "        raise Exception('ensure that mat1 and mat2 have compatible dimesnions.')\n",
    "\n",
    "    return _mm_csc_csr(mat1, mat2)\n",
    "    \n",
    "\n"
   ]
  }
 ],
 "metadata": {
  "kernelspec": {
   "display_name": "Python 3.10.4 64-bit",
   "language": "python",
   "name": "python3"
  },
  "language_info": {
   "codemirror_mode": {
    "name": "ipython",
    "version": 3
   },
   "file_extension": ".py",
   "mimetype": "text/x-python",
   "name": "python",
   "nbconvert_exporter": "python",
   "pygments_lexer": "ipython3",
   "version": "3.10.4"
  },
  "orig_nbformat": 4,
  "vscode": {
   "interpreter": {
    "hash": "916dbcbb3f70747c44a77c7bcd40155683ae19c65e1c03b4aa3499c5328201f1"
   }
  }
 },
 "nbformat": 4,
 "nbformat_minor": 2
}
