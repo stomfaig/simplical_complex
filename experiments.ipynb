{
 "cells": [
  {
   "cell_type": "code",
   "execution_count": 1,
   "metadata": {},
   "outputs": [],
   "source": [
    "%load_ext autoreload\n",
    "%autoreload 2"
   ]
  },
  {
   "cell_type": "code",
   "execution_count": 2,
   "metadata": {},
   "outputs": [
    {
     "name": "stderr",
     "output_type": "stream",
     "text": [
      "/home/gergo/.local/lib/python3.10/site-packages/tqdm/auto.py:22: TqdmWarning: IProgress not found. Please update jupyter and ipywidgets. See https://ipywidgets.readthedocs.io/en/stable/user_install.html\n",
      "  from .autonotebook import tqdm as notebook_tqdm\n"
     ]
    }
   ],
   "source": [
    "from toolkit import simplex\n",
    "import torch"
   ]
  },
  {
   "cell_type": "code",
   "execution_count": 23,
   "metadata": {},
   "outputs": [],
   "source": [
    "htb = simplex.HashTensorBuilder(3, 2, header='test')"
   ]
  },
  {
   "cell_type": "code",
   "execution_count": 24,
   "metadata": {},
   "outputs": [],
   "source": [
    "htb[('a', 'b', 'c')] = [1, 2]\n",
    "htb[('a', 'c', 'c')] = [3, 4]\n",
    "htb[('a', 'd', 'c')] = [5, 6]\n",
    "htb[('b', 'd', 'c')] = [7, 8]"
   ]
  },
  {
   "cell_type": "code",
   "execution_count": 25,
   "metadata": {},
   "outputs": [
    {
     "data": {
      "text/plain": [
       "<toolkit.simplex.HashTensor at 0x7fda92acc310>"
      ]
     },
     "execution_count": 25,
     "metadata": {},
     "output_type": "execute_result"
    }
   ],
   "source": [
    "tensor = htb.collapse()\n",
    "tensor"
   ]
  },
  {
   "cell_type": "code",
   "execution_count": 26,
   "metadata": {},
   "outputs": [
    {
     "data": {
      "text/plain": [
       "tensor([[[[1., 2.]],\n",
       "\n",
       "         [[3., 4.]],\n",
       "\n",
       "         [[5., 6.]]],\n",
       "\n",
       "\n",
       "        [[[0., 0.]],\n",
       "\n",
       "         [[0., 0.]],\n",
       "\n",
       "         [[7., 8.]]]])"
      ]
     },
     "execution_count": 26,
     "metadata": {},
     "output_type": "execute_result"
    }
   ],
   "source": [
    "tensor.tensor"
   ]
  },
  {
   "cell_type": "code",
   "execution_count": 27,
   "metadata": {},
   "outputs": [
    {
     "name": "stdout",
     "output_type": "stream",
     "text": [
      "__DATA TABLE__ \n",
      " : a\n",
      "row: \n",
      "cols: \n",
      "\tc\n",
      "b\t1.0\n",
      "c\t3.0\n",
      "d\t5.0\n",
      "\n",
      "__DATA TABLE__ \n",
      " : a\n",
      "row: \n",
      "cols: \n",
      "\tc\n",
      "b\t2.0\n",
      "c\t4.0\n",
      "d\t6.0\n",
      "\n",
      "__DATA TABLE__ \n",
      " : b\n",
      "row: \n",
      "cols: \n",
      "\tc\n",
      "b\t0.0\n",
      "c\t0.0\n",
      "d\t7.0\n",
      "\n",
      "__DATA TABLE__ \n",
      " : b\n",
      "row: \n",
      "cols: \n",
      "\tc\n",
      "b\t0.0\n",
      "c\t0.0\n",
      "d\t8.0\n",
      "\n"
     ]
    }
   ],
   "source": [
    "tensor.pretty_print()"
   ]
  },
  {
   "cell_type": "code",
   "execution_count": null,
   "metadata": {},
   "outputs": [],
   "source": []
  }
 ],
 "metadata": {
  "kernelspec": {
   "display_name": "Python 3.10.4 64-bit",
   "language": "python",
   "name": "python3"
  },
  "language_info": {
   "codemirror_mode": {
    "name": "ipython",
    "version": 3
   },
   "file_extension": ".py",
   "mimetype": "text/x-python",
   "name": "python",
   "nbconvert_exporter": "python",
   "pygments_lexer": "ipython3",
   "version": "3.10.4"
  },
  "orig_nbformat": 4,
  "vscode": {
   "interpreter": {
    "hash": "916dbcbb3f70747c44a77c7bcd40155683ae19c65e1c03b4aa3499c5328201f1"
   }
  }
 },
 "nbformat": 4,
 "nbformat_minor": 2
}
